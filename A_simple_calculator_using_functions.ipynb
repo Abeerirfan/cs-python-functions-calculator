{
 "cells": [
  {
   "cell_type": "markdown",
   "metadata": {},
   "source": [
    "## A simple calculator using functions\n",
    "\n",
    "1) Read code and discuss - ask questions!\n",
    "\n",
    "2) Comment code\n",
    "\n",
    "3) Extend the calculator with 5 more functions\n"
   ]
  },
  {
   "cell_type": "code",
   "execution_count": null,
   "metadata": {},
   "outputs": [
    {
     "name": "stdout",
     "output_type": "stream",
     "text": [
      "welcome to my calculator\n",
      "Would you like to continue (y/n) ?y\n",
      "A)dd numbers\n",
      "S)ubtract numbers\n",
      "M)ultiply numbers\n",
      "D)ivide numbers\n",
      "SQ)uare numbers\n",
      "R)emainder of numbers\n"
     ]
    }
   ],
   "source": [
    "def mainMenu(): #defines a function called main menu\n",
    "    validChoices = [\"A\", \"S\", \"M\",\"D\",\"SQ\",\"R\"] #creates a varibale which stores the list that has \"a\" and \"s\"\n",
    "    valid = False # stores the boolean false\n",
    "    while not valid: #while the condition is true \n",
    "        print(\"A)dd numbers\") #prints strings as options for the user\n",
    "        print(\"S)ubtract numbers\")\n",
    "        print (\"M)ultiply numbers\")\n",
    "        print (\"D)ivide numbers\")\n",
    "        print (\"SQ)uare numbers\")\n",
    "        print (\"R)emainder of numbers\")\n",
    "        \n",
    "        \n",
    "        choice = input(\"choose your option\").upper()\n",
    "        if choice not in validChoices:\n",
    "            print(\"sorry that is not a valid menu choice \")\n",
    "        else:\n",
    "            valid= True\n",
    "            \n",
    "    return choice\n",
    "    \n",
    "\n",
    "def enterNumber():\n",
    "    valid = False\n",
    "    while not valid:\n",
    "        try:\n",
    "            x=int(input(\"enter your number\"))\n",
    "            valid=True\n",
    "        except ValueError:\n",
    "            print(\"That was not a valid number.. please try again\")\n",
    "    \n",
    "    return x\n",
    "#function - called add- takes two parameters as integers (x and y) and returns the answer of them added together as an integer.\n",
    "def add(x,y):\n",
    "    return x+y\n",
    "#function - by the name of subtract - takes two parameters as integers (x and y) and returns the answer of them subtracted as an integer.\n",
    "def subtract(x,y):\n",
    "    return x-y\n",
    "#function - called multiply- takes two parameters as whole numbers (x and y) and returns the answer of them multiplied together as an integer.\n",
    "def multiply (x,y):\n",
    "    return x * y\n",
    "#function ,divide, takes two parameters as whole numbers (x and y) and returns the answer of them divided together as a float.\n",
    "def divide (x,y):\n",
    "    return x/y\n",
    "#function ,square, takes two parameters as whole numbers (x and y) and returns the answer of the first number squared to the power of the second number as an integer. \n",
    "def square (x,y):\n",
    "    return x ** y\n",
    "#function ,called remainder, takes two parameters as integers (x and y) and returns the remainder of the first number divided by second as an integer. \n",
    "def remainder (x,y):\n",
    "    return x%y\n",
    "#main program starts here\n",
    "print(\"welcome to my calculator\")\n",
    "again = \"y\"\n",
    "while again != (\"Y\") or again != (\"y\") or again != (\"N\") or again != (\"n\") :\n",
    "    again = input(\"Would you like to continue (y/n) ?\")\n",
    "    while again == \"y\"or again == \"Y\":\n",
    "        userChoice = mainMenu()\n",
    "        if userChoice == \"A\"or userChoice == \"a\":\n",
    "            answer = add(enterNumber(), enterNumber())\n",
    "        elif userChoice == \"S\"or userChoice == \"s\":\n",
    "            answer = subtract(enterNumber(), enterNumber())\n",
    "        elif userChoice == \"M\" or userChoice == \"m\":\n",
    "            answer = multiply(enterNumber(),enterNumber())\n",
    "        elif userChoice == \"D\"or userChoice == \"d\":\n",
    "            answer = divide(enterNumber(),enterNumber())\n",
    "        elif userChoice == \"SQ\" or userChoice == \"sq\" :\n",
    "            answer = square(enterNumber(),enterNumber())\n",
    "        elif userChoice == \"r\"or userChoice == \"R\":\n",
    "            answer = remainder(enterNumber(),enterNumber())\n",
    "        else:\n",
    "            print(\"error - we should never get here\")\n",
    "    \n",
    "        print(\"the answer from your calcaulation is = \"+str(answer))\n",
    "    "
   ]
  },
  {
   "cell_type": "code",
   "execution_count": null,
   "metadata": {},
   "outputs": [],
   "source": []
  },
  {
   "cell_type": "code",
   "execution_count": null,
   "metadata": {},
   "outputs": [],
   "source": []
  },
  {
   "cell_type": "code",
   "execution_count": null,
   "metadata": {},
   "outputs": [],
   "source": []
  },
  {
   "cell_type": "code",
   "execution_count": null,
   "metadata": {},
   "outputs": [],
   "source": []
  },
  {
   "cell_type": "code",
   "execution_count": null,
   "metadata": {},
   "outputs": [],
   "source": []
  },
  {
   "cell_type": "code",
   "execution_count": null,
   "metadata": {},
   "outputs": [],
   "source": []
  },
  {
   "cell_type": "code",
   "execution_count": null,
   "metadata": {},
   "outputs": [],
   "source": []
  },
  {
   "cell_type": "code",
   "execution_count": null,
   "metadata": {},
   "outputs": [],
   "source": []
  }
 ],
 "metadata": {
  "kernelspec": {
   "display_name": "Python 3",
   "language": "python",
   "name": "python3"
  },
  "language_info": {
   "codemirror_mode": {
    "name": "ipython",
    "version": 3
   },
   "file_extension": ".py",
   "mimetype": "text/x-python",
   "name": "python",
   "nbconvert_exporter": "python",
   "pygments_lexer": "ipython3",
   "version": "3.6.5"
  }
 },
 "nbformat": 4,
 "nbformat_minor": 2
}
